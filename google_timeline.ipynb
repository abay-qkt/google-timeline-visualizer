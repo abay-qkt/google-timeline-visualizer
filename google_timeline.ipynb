{
  "nbformat": 4,
  "nbformat_minor": 0,
  "metadata": {
    "colab": {
      "provenance": [],
      "collapsed_sections": [
        "inKLJGBzEZ7h"
      ],
      "toc_visible": true,
      "authorship_tag": "ABX9TyPP2LremtHOFCb2Gd5Dh0jf",
      "include_colab_link": true
    },
    "kernelspec": {
      "name": "python3",
      "display_name": "Python 3"
    },
    "language_info": {
      "name": "python"
    }
  },
  "cells": [
    {
      "cell_type": "markdown",
      "metadata": {
        "id": "view-in-github",
        "colab_type": "text"
      },
      "source": [
        "<a href=\"https://colab.research.google.com/github/abay-qkt/google-timeline-visualizer/blob/main/google_timeline.ipynb\" target=\"_parent\"><img src=\"https://colab.research.google.com/assets/colab-badge.svg\" alt=\"Open In Colab\"/></a>"
      ]
    },
    {
      "cell_type": "code",
      "execution_count": null,
      "metadata": {
        "id": "FngEFxZhESSX"
      },
      "outputs": [],
      "source": [
        "from google.colab import drive\n",
        "drive.mount('/content/drive')"
      ]
    },
    {
      "cell_type": "code",
      "source": [
        "path = \"/content/drive/MyDrive/location-history.json\""
      ],
      "metadata": {
        "id": "qAr5OvpPETOG"
      },
      "execution_count": null,
      "outputs": []
    },
    {
      "cell_type": "markdown",
      "source": [
        "# 準備"
      ],
      "metadata": {
        "id": "inKLJGBzEZ7h"
      }
    },
    {
      "cell_type": "code",
      "source": [
        "import pandas as pd\n",
        "import numpy as np\n",
        "import plotly.express as px\n",
        "import ipywidgets as widgets\n",
        "\n",
        "from google.colab import output\n",
        "output.enable_custom_widget_manager()"
      ],
      "metadata": {
        "id": "Tq0bjn7VETL6"
      },
      "execution_count": null,
      "outputs": []
    },
    {
      "cell_type": "markdown",
      "source": [
        "## タイムラインデータのロード"
      ],
      "metadata": {
        "id": "qjas7zgCEb_p"
      }
    },
    {
      "cell_type": "code",
      "source": [
        "df = pd.read_json(path)\n",
        "df[\"tz_info\"]=df[\"startTime\"].str[23:]\n",
        "df[\"endTime\"] = pd.to_datetime(df[\"endTime\"].str[:23])\n",
        "df[\"startTime\"] = pd.to_datetime(df[\"startTime\"].str[:23])\n",
        "df.set_index([\"endTime\",\"startTime\",\"tz_info\"],inplace=True)\n",
        "\n",
        "# timelinePath\n",
        "tp = df[\"timelinePath\"].dropna()\n",
        "tp = pd.json_normalize(tp.explode()).set_index(tp.explode().index)\n",
        "tp[[\"path_lat\",\"path_lon\"]] = tp[\"point\"].str[4:].str.split(\",\",expand=True).astype(float)\n",
        "tp = tp.drop([\"point\"],axis=1).reset_index()\n",
        "tp[\"durationMinutesOffsetFromStartTime\"]=tp[\"durationMinutesOffsetFromStartTime\"].astype(int)\n",
        "tp[\"pointTime\"]=(\n",
        "    tp[\"startTime\"]  #  startTime+durationMinutesOffsetFromStartTime時点でその緯度経度に居たと解釈する\n",
        "    +pd.to_timedelta(tp[\"durationMinutesOffsetFromStartTime\"],unit='minute')\n",
        "    +pd.to_timedelta(9,unit='hour')  # 日本時間に変換する\n",
        ")\n",
        "tp[\"prevTime\"]=tp[\"pointTime\"].shift()  # 直前の時刻を示す列も用意しておく\n",
        "\n",
        "# timelineMemory\n",
        "tm = df[\"timelineMemory\"].dropna()\n",
        "tm = pd.json_normalize(tm).set_index(tm.index).explode(\"destinations\")\n",
        "tm[\"destinations\"]=tm[\"destinations\"].map(lambda x: x[\"identifier\"])\n",
        "tm[\"distanceFromOriginKms\"]=tm[\"distanceFromOriginKms\"].astype(int)\n",
        "tm.reset_index(inplace=True)\n",
        "\n",
        "# activity\n",
        "ac = df[\"activity\"].dropna()\n",
        "ac = pd.json_normalize(ac).set_index(ac.index)\n",
        "ac[[\"start_lat\",\"start_lon\"]]=ac[\"start\"].str[4:].str.split(\",\",expand=True).astype(float)\n",
        "ac[[\"end_lat\",\"end_lon\"]]=ac[\"end\"].str[4:].str.split(\",\",expand=True).astype(float)\n",
        "ac.drop([\"start\",\"end\"],axis=1,inplace=True)\n",
        "ac[\"distanceMeters\"]=ac[\"distanceMeters\"].astype(float)\n",
        "ac.reset_index(inplace=True)\n",
        "\n",
        "# visit\n",
        "vt = df[\"visit\"].dropna()\n",
        "vt = pd.json_normalize(vt).set_index(vt.index)\n",
        "vt[[\"place_lat\",\"place_lon\"]]=vt[\"topCandidate.placeLocation\"].str[4:].str.split(\",\",expand=True).astype(float)\n",
        "vt.drop([\"topCandidate.placeLocation\"],axis=1,inplace=True)\n",
        "vt[\"hierarchyLevel\"]=vt[\"hierarchyLevel\"].astype(int)\n",
        "vt[\"topCandidate.probability\"]=vt[\"topCandidate.probability\"].astype(float)\n",
        "vt.reset_index(inplace=True)"
      ],
      "metadata": {
        "id": "Fd5b-6WPETJp"
      },
      "execution_count": null,
      "outputs": []
    },
    {
      "cell_type": "code",
      "source": [
        "# 訪問地ごとに集計\n",
        "vt_info = vt.copy()\n",
        "vt_info[\"startDate\"]=vt_info[\"startTime\"].dt.date.astype(str)\n",
        "vt_info = (\n",
        "    vt_info\n",
        "    .groupby([\"topCandidate.placeID\",\"place_lat\",\"place_lon\"])[\"startDate\"]\n",
        "    .agg([\"nunique\",\"max\"])\n",
        "    .sort_values(\"max\")\n",
        "    .rename(columns={\"nunique\":\"visit_count\",\"max\":\"last_visit\"})\n",
        "    .reset_index()\n",
        ")"
      ],
      "metadata": {
        "id": "NPyR-l7AETHq"
      },
      "execution_count": null,
      "outputs": []
    },
    {
      "cell_type": "markdown",
      "source": [
        "## 訪問地プロット関数"
      ],
      "metadata": {
        "id": "YWMf5ES6EgLb"
      }
    },
    {
      "cell_type": "code",
      "source": [
        "def plot_visiting(vt):\n",
        "  fig = px.scatter_mapbox(vt_info,lat='place_lat',lon='place_lon',hover_data=[\"visit_count\",\"last_visit\"],mapbox_style ='carto-positron')\n",
        "  fig.update_traces(marker=dict(color='red',size=10))\n",
        "  fig.update_layout(height=800,width=1200)\n",
        "  fig.show(config={\"scrollZoom\":True})"
      ],
      "metadata": {
        "id": "_oyh4XWdETFr"
      },
      "execution_count": null,
      "outputs": []
    },
    {
      "cell_type": "markdown",
      "source": [
        "## 経路プロット関数"
      ],
      "metadata": {
        "id": "n_CJa7ebEk9-"
      }
    },
    {
      "cell_type": "code",
      "source": [
        "# Date Pickerウィジェットを作成\n",
        "date_picker = widgets.DatePicker(\n",
        "    description='Select Date',\n",
        "    disabled=False\n",
        ")\n",
        "map_output = widgets.Output()  # 描画のためのOutputウィジェットを作成\n",
        "def plot_path(tp,vt):\n",
        "  fig1 = px.line_mapbox(tp.reset_index(),lat='path_lat',lon='path_lon',hover_data=[\"startTime\",\"endTime\"],mapbox_style ='carto-positron')\n",
        "  fig2 = px.scatter_mapbox(vt.reset_index(),lat='place_lat',lon='place_lon',hover_data=[\"startTime\",\"endTime\"],mapbox_style ='carto-positron')\n",
        "  fig2.update_traces(marker=dict(color='red',size=10))\n",
        "  fig1.add_traces(fig2.data)\n",
        "  fig1.update_layout(height=600,width=1000)\n",
        "  fig1.show(config={\"scrollZoom\":True})\n",
        "\n",
        "# コールバック関数を定義\n",
        "def on_date_change(change):\n",
        "    selected_date = change['new']\n",
        "    if selected_date is not None:\n",
        "        tp_=tp[tp[\"startTime\"].dt.date==selected_date]\n",
        "        vt_=vt[vt[\"startTime\"].dt.date==selected_date]\n",
        "        # グラフを描画\n",
        "        if not vt_.empty:\n",
        "            with map_output:\n",
        "                map_output.clear_output()\n",
        "                plot_path(tp_,vt_)\n",
        "        else:\n",
        "            with map_output:\n",
        "                map_output.clear_output()\n",
        "                print(\"No data available for the selected date.\")\n",
        "\n",
        "date_picker.observe(on_date_change, names='value')  # ウィジェットにコールバック関数をバインド\n",
        "plot_path_ui = widgets.VBox([date_picker,map_output])"
      ],
      "metadata": {
        "id": "CzMOvduMETDk"
      },
      "execution_count": null,
      "outputs": []
    },
    {
      "cell_type": "markdown",
      "source": [
        "## 訪問地kml保存"
      ],
      "metadata": {
        "id": "H3wzt2WsEnfO"
      }
    },
    {
      "cell_type": "code",
      "source": [
        "!pip install simplekml"
      ],
      "metadata": {
        "id": "9Wd1V21hETBd"
      },
      "execution_count": null,
      "outputs": []
    },
    {
      "cell_type": "code",
      "source": [
        "import simplekml\n",
        "\n",
        "def save_visit(vt_info):\n",
        "  kml = simplekml.Kml()\n",
        "\n",
        "  style = simplekml.Style()\n",
        "  style.iconstyle.icon.href = 'https://maps.google.com/mapfiles/ms/micons/red-dot.png'\n",
        "  style.iconstyle.scale = 3\n",
        "  style.labelstyle.scale = 0  # ラベルのスケールを0に設定（つまり非表示になる）\n",
        "\n",
        "  for i in range(len(vt_info)):\n",
        "      x = vt_info.iloc[i]\n",
        "      pt = kml.newpoint(name=x[\"topCandidate.placeID\"],\n",
        "                        coords=[( x[\"place_lon\"],x[\"place_lat\"])],\n",
        "                        description=f'訪問日数:{x[\"visit_count\"]} 最終訪問日:{x[\"last_visit\"]}')\n",
        "      pt.timestamp.when = x[\"last_visit\"]\n",
        "      pt.style = style\n",
        "  kml.save(path = \"visit.kml\")"
      ],
      "metadata": {
        "id": "oJol5xs_ErEz"
      },
      "execution_count": null,
      "outputs": []
    },
    {
      "cell_type": "code",
      "source": [
        "save_visit(vt_info)"
      ],
      "metadata": {
        "id": "XOJsRtD7ES_O"
      },
      "execution_count": null,
      "outputs": []
    },
    {
      "cell_type": "markdown",
      "source": [
        "# 可視化"
      ],
      "metadata": {
        "id": "oMvk5U25Etac"
      }
    },
    {
      "cell_type": "markdown",
      "source": [
        "## 訪問地"
      ],
      "metadata": {
        "id": "WRnfwJOKEuvo"
      }
    },
    {
      "cell_type": "code",
      "source": [
        "plot_visiting(vt)"
      ],
      "metadata": {
        "id": "2EQ3W4kdEv-f"
      },
      "execution_count": null,
      "outputs": []
    },
    {
      "cell_type": "markdown",
      "source": [
        "## 経路（日別）"
      ],
      "metadata": {
        "id": "C5nk9MOYExqT"
      }
    },
    {
      "cell_type": "code",
      "source": [
        "display(plot_path_ui)"
      ],
      "metadata": {
        "id": "394DLcrlEv8J"
      },
      "execution_count": null,
      "outputs": []
    }
  ]
}